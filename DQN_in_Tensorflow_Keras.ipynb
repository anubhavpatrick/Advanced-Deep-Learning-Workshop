{
  "nbformat": 4,
  "nbformat_minor": 0,
  "metadata": {
    "colab": {
      "name": "DQN in Tensorflow Keras.ipynb",
      "version": "0.3.2",
      "provenance": [],
      "collapsed_sections": [],
      "include_colab_link": true
    },
    "kernelspec": {
      "name": "python3",
      "display_name": "Python 3"
    },
    "accelerator": "GPU"
  },
  "cells": [
    {
      "cell_type": "markdown",
      "metadata": {
        "id": "view-in-github",
        "colab_type": "text"
      },
      "source": [
        "<a href=\"https://colab.research.google.com/github/anubhavpatrick/Advanced-Deep-Learning-Workshop/blob/master/DQN_in_Tensorflow_Keras.ipynb\" target=\"_parent\"><img src=\"https://colab.research.google.com/assets/colab-badge.svg\" alt=\"Open In Colab\"/></a>"
      ]
    },
    {
      "cell_type": "markdown",
      "metadata": {
        "id": "If1MwZ_tTkIg",
        "colab_type": "text"
      },
      "source": [
        "## Coding the Agent\n",
        "![alt text](https://github.com/anubhavpatrick/Advanced-Deep-Learning-Workshop/raw/master/dqn.png)"
      ]
    },
    {
      "cell_type": "code",
      "metadata": {
        "id": "NtxCB1eqyumG",
        "colab_type": "code",
        "colab": {}
      },
      "source": [
        "from keras.models import Sequential\n",
        "from keras.layers import Dense, Dropout, Conv2D, MaxPooling2D, Activation, Flatten\n",
        "from keras.callbacks import TensorBoard\n",
        "from keras.optimizers import Adam\n",
        "from collections import deque\n",
        "import time\n",
        "import numpy as np\n",
        "\n",
        "REPLAY_MEMORY_SIZE = 50000\n",
        "MODEL_NAME = 'Anubhav_DQN'\n",
        "\n",
        "# Own Tensorboard class\n",
        "class ModifiedTensorBoard(TensorBoard):#this modified Tensorboard class is needed otherwise lots of tensorboard files will be created\n",
        "\n",
        "    # Overriding init to set initial step and writer (we want one log file for all .fit() calls)\n",
        "    def __init__(self, **kwargs):\n",
        "        super().__init__(**kwargs)\n",
        "        self.step = 1\n",
        "        self.writer = tf.summary.FileWriter(self.log_dir)\n",
        "\n",
        "    # Overriding this method to stop creating default log writer\n",
        "    def set_model(self, model):\n",
        "        pass\n",
        "\n",
        "    # Overrided, saves logs with our step number\n",
        "    # (otherwise every .fit() will start writing from 0th step)\n",
        "    def on_epoch_end(self, epoch, logs=None):\n",
        "        self.update_stats(**logs)\n",
        "\n",
        "    # Overrided\n",
        "    # We train for one batch only, no need to save anything at epoch end\n",
        "    def on_batch_end(self, batch, logs=None):\n",
        "        pass\n",
        "\n",
        "    # Overrided, so won't close writer\n",
        "    def on_train_end(self, _):\n",
        "        pass\n",
        "\n",
        "    # Custom method for saving own metrics\n",
        "    # Creates writer, writes custom metrics and closes writer\n",
        "    def update_stats(self, **stats):\n",
        "        self._write_logs(stats, self.step)\n",
        "\n",
        "\n",
        "class DQNagent:\n",
        "  def __init__(self):\n",
        "    #There were two methods provided by DQN researchers to provide stability to neural networks\n",
        "    #i.e., periodical updates by using two neural networks ans using  experience replay\n",
        "    \n",
        "    #main model - gets trained every single step - .fit()\n",
        "    self.model = self.create_model()\n",
        "    \n",
        "    #Target model - we predict using this model every single step .predict()\n",
        "    self.target_model=self.create_model()\n",
        "    self.target_model.set_weights(self.model.get_weights())\n",
        "    \n",
        "    self.replay_memory = deque(maxlen=REPLAY_MEMORY_SIZE)#provides stability to first neural network\n",
        "    \n",
        "    self.tensorboard = ModifiedTensorBoard(log_dir=f\"logs/{MODEL_NAME}-{int(time.time())}\")\n",
        "    \n",
        "    self.target_update_counter = 0#after how many steps we want to update our target model\n",
        "    \n",
        "    \n",
        "    \n",
        "  def create_model(self):\n",
        "    model=Sequential()\n",
        "    model.add(Conv2D(256,(3,3), input_shape=env.OBSERVATION_SPACE_VALUES))\n",
        "    model.add(Activation(\"relu\"))\n",
        "    model.add(MaxPooling2d(2,2))\n",
        "    model.add(Dropout(0.2)) #For avoiding overfitting\n",
        "    \n",
        "    model.add(Conv2D(256,(3,3), input_shape=env.OBSERVATION_SPACE_VALUES))\n",
        "    model.add(Activation(\"relu\"))\n",
        "    model.add(MaxPooling2d(2,2))\n",
        "    model.add(Dropout(0.2)) #For avoiding overfitting\n",
        "    \n",
        "    model.add(Flatten())\n",
        "    model.add(Dense(64))\n",
        "\n",
        "    \n",
        "    model.add(Dense(env.ACTION_SPACE_SIZE, activation=\"linear\"))#linear activation means no activation\n",
        "    model.compile(loss=\"mse\",optimizer=Adam(lr=0.001),metrics=['accuracy'])\n",
        "    return model\n",
        "  \n",
        "  def update_replay_memory(self,transition):#transition will be <S,A,R,A>\n",
        "    self.replay_memory.append(transition)\n",
        "    "
      ],
      "execution_count": 0,
      "outputs": []
    },
    {
      "cell_type": "code",
      "metadata": {
        "id": "evjXol-ZGSL0",
        "colab_type": "code",
        "outputId": "3a54273f-7d08-4c72-dd7b-5a4d6f0adf54",
        "colab": {
          "base_uri": "https://localhost:8080/",
          "height": 225
        }
      },
      "source": [
        ""
      ],
      "execution_count": 0,
      "outputs": [
        {
          "output_type": "error",
          "ename": "TypeError",
          "evalue": "ignored",
          "traceback": [
            "\u001b[0;31m---------------------------------------------------------------------------\u001b[0m",
            "\u001b[0;31mTypeError\u001b[0m                                 Traceback (most recent call last)",
            "\u001b[0;32m<ipython-input-8-5026b68cd41d>\u001b[0m in \u001b[0;36m<module>\u001b[0;34m()\u001b[0m\n\u001b[1;32m      1\u001b[0m \u001b[0;32mimport\u001b[0m \u001b[0mtime\u001b[0m\u001b[0;34m\u001b[0m\u001b[0;34m\u001b[0m\u001b[0m\n\u001b[0;32m----> 2\u001b[0;31m \u001b[0;34mf\"Time is {int(time.localtime)}\"\u001b[0m\u001b[0;34m\u001b[0m\u001b[0;34m\u001b[0m\u001b[0m\n\u001b[0m",
            "\u001b[0;31mTypeError\u001b[0m: int() argument must be a string, a bytes-like object or a number, not 'builtin_function_or_method'"
          ]
        }
      ]
    },
    {
      "cell_type": "code",
      "metadata": {
        "id": "gVJ94BOaB-bu",
        "colab_type": "code",
        "colab": {
          "base_uri": "https://localhost:8080/",
          "height": 152
        },
        "outputId": "bdbee97c-6f81-4568-b773-97511944e4ea"
      },
      "source": [
        "\n",
        "a='anubhav'\n",
        "*a"
      ],
      "execution_count": 1,
      "outputs": [
        {
          "output_type": "error",
          "ename": "SyntaxError",
          "evalue": "ignored",
          "traceback": [
            "\u001b[0;36m  File \u001b[0;32m\"<ipython-input-1-867af32d7e0b>\"\u001b[0;36m, line \u001b[0;32m3\u001b[0m\n\u001b[0;31m    *a\u001b[0m\n\u001b[0m      ^\u001b[0m\n\u001b[0;31mSyntaxError\u001b[0m\u001b[0;31m:\u001b[0m can't use starred expression here\n"
          ]
        }
      ]
    },
    {
      "cell_type": "code",
      "metadata": {
        "id": "AbKYE15E-IRH",
        "colab_type": "code",
        "colab": {}
      },
      "source": [
        ""
      ],
      "execution_count": 0,
      "outputs": []
    }
  ]
}